{
  "nbformat": 4,
  "nbformat_minor": 0,
  "metadata": {
    "colab": {
      "name": "Turtle.ipynb",
      "provenance": [],
      "collapsed_sections": [],
      "authorship_tag": "ABX9TyPoO2qIx2vSurieJ8BGkC3A",
      "include_colab_link": true
    },
    "kernelspec": {
      "name": "python3",
      "display_name": "Python 3"
    },
    "language_info": {
      "name": "python"
    }
  },
  "cells": [
    {
      "cell_type": "markdown",
      "metadata": {
        "id": "view-in-github",
        "colab_type": "text"
      },
      "source": [
        "<a href=\"https://colab.research.google.com/github/screto/jupiternotebooks/blob/main/Turtle.ipynb\" target=\"_parent\"><img src=\"https://colab.research.google.com/assets/colab-badge.svg\" alt=\"Open In Colab\"/></a>"
      ]
    },
    {
      "cell_type": "code",
      "metadata": {
        "colab": {
          "base_uri": "https://localhost:8080/"
        },
        "id": "jZitluur1aKI",
        "outputId": "95517d0f-755b-4b8b-e3fd-2fd90afe125e"
      },
      "source": [
        "!pip3 install ColabTurtle"
      ],
      "execution_count": 2,
      "outputs": [
        {
          "output_type": "stream",
          "text": [
            "Collecting ColabTurtle\n",
            "  Downloading https://files.pythonhosted.org/packages/08/6f/619066317c24cd988979ad1b8c7b324c09ee1c408bfd88926889d6a62d99/ColabTurtle-2.1.0.tar.gz\n",
            "Building wheels for collected packages: ColabTurtle\n",
            "  Building wheel for ColabTurtle (setup.py) ... \u001b[?25l\u001b[?25hdone\n",
            "  Created wheel for ColabTurtle: filename=ColabTurtle-2.1.0-cp37-none-any.whl size=7661 sha256=0ea6206c8170abc4e62e86e32c9bdb941ce48995f81ccd57434767e37007d64a\n",
            "  Stored in directory: /root/.cache/pip/wheels/df/e9/3f/df3fccd8971c5473dc0c6450984cd057de8c9a1271069ebf18\n",
            "Successfully built ColabTurtle\n",
            "Installing collected packages: ColabTurtle\n",
            "Successfully installed ColabTurtle-2.1.0\n"
          ],
          "name": "stdout"
        }
      ]
    },
    {
      "cell_type": "code",
      "metadata": {
        "colab": {
          "base_uri": "https://localhost:8080/",
          "height": 521
        },
        "id": "0Cs07Nci1ndA",
        "outputId": "f407fd0c-5699-46d9-8bcf-cd02a0f7e8ac"
      },
      "source": [
        "from ColabTurtle.Turtle import *\n",
        "\n",
        "initializeTurtle(initial_speed=10)\n",
        "\n",
        "penup()\n",
        "goto(400,100)\n",
        "pendown()\n",
        "write('Informatik macht Spass!', align=\"center\", font=(20, \"Arial\", \"bold\"))\n",
        "penup()\n",
        "goto(400,400)\n",
        "pendown()\n",
        "color('red')\n",
        "right(45)\n",
        "forward(131)\n",
        "for i in range(39):\n",
        "  right(-5)\n",
        "  forward(5)\n",
        "right(120)\n",
        "position()\n",
        "for i in range(39):\n",
        "  right(-5)\n",
        "  forward(5)\n",
        "forward(121)\n",
        "penup()\n",
        "goto(100,0)\n",
        "pendown()\n",
        "width(5)\n",
        "color('blue')\n",
        "right(45)\n",
        "forward(500)\n",
        "penup()\n",
        "goto(700,0)\n",
        "color('green')\n",
        "pendown()\n",
        "forward(500)\n",
        "penup()\n",
        "home()\n",
        "forward(-50)\n",
        "color('yellow')\n"
      ],
      "execution_count": 44,
      "outputs": [
        {
          "output_type": "display_data",
          "data": {
            "text/html": [
              "\n",
              "      <svg width=\"800\" height=\"500\">\n",
              "        <rect width=\"100%\" height=\"100%\" fill=\"black\"/>\n",
              "        <text x=\"400\" y=\"100\" fill=\"white\" text-anchor=\"middle\" style=\"font-size:20px;font-family:'Arial';font-weight:bold;\">Informatik macht Spass!</text><line x1=\"400\" y1=\"400\" x2=\"492.631\" y2=\"307.369\" stroke-linecap=\"round\" style=\"stroke:red;stroke-width:4\"/><line x1=\"492.631\" y1=\"307.369\" x2=\"495.845\" y2=\"303.539\" stroke-linecap=\"round\" style=\"stroke:red;stroke-width:4\"/><line x1=\"495.845\" y1=\"303.539\" x2=\"498.713\" y2=\"299.443\" stroke-linecap=\"round\" style=\"stroke:red;stroke-width:4\"/><line x1=\"498.713\" y1=\"299.443\" x2=\"501.213\" y2=\"295.113\" stroke-linecap=\"round\" style=\"stroke:red;stroke-width:4\"/><line x1=\"501.213\" y1=\"295.113\" x2=\"503.326\" y2=\"290.581\" stroke-linecap=\"round\" style=\"stroke:red;stroke-width:4\"/><line x1=\"503.326\" y1=\"290.581\" x2=\"505.036\" y2=\"285.883\" stroke-linecap=\"round\" style=\"stroke:red;stroke-width:4\"/><line x1=\"505.036\" y1=\"285.883\" x2=\"506.33\" y2=\"281.053\" stroke-linecap=\"round\" style=\"stroke:red;stroke-width:4\"/><line x1=\"506.33\" y1=\"281.053\" x2=\"507.198\" y2=\"276.129\" stroke-linecap=\"round\" style=\"stroke:red;stroke-width:4\"/><line x1=\"507.198\" y1=\"276.129\" x2=\"507.634\" y2=\"271.148\" stroke-linecap=\"round\" style=\"stroke:red;stroke-width:4\"/><line x1=\"507.634\" y1=\"271.148\" x2=\"507.634\" y2=\"266.148\" stroke-linecap=\"round\" style=\"stroke:red;stroke-width:4\"/><line x1=\"507.634\" y1=\"266.148\" x2=\"507.198\" y2=\"261.167\" stroke-linecap=\"round\" style=\"stroke:red;stroke-width:4\"/><line x1=\"507.198\" y1=\"261.167\" x2=\"506.33\" y2=\"256.243\" stroke-linecap=\"round\" style=\"stroke:red;stroke-width:4\"/><line x1=\"506.33\" y1=\"256.243\" x2=\"505.036\" y2=\"251.413\" stroke-linecap=\"round\" style=\"stroke:red;stroke-width:4\"/><line x1=\"505.036\" y1=\"251.413\" x2=\"503.326\" y2=\"246.715\" stroke-linecap=\"round\" style=\"stroke:red;stroke-width:4\"/><line x1=\"503.326\" y1=\"246.715\" x2=\"501.213\" y2=\"242.183\" stroke-linecap=\"round\" style=\"stroke:red;stroke-width:4\"/><line x1=\"501.213\" y1=\"242.183\" x2=\"498.713\" y2=\"237.853\" stroke-linecap=\"round\" style=\"stroke:red;stroke-width:4\"/><line x1=\"498.713\" y1=\"237.853\" x2=\"495.845\" y2=\"233.757\" stroke-linecap=\"round\" style=\"stroke:red;stroke-width:4\"/><line x1=\"495.845\" y1=\"233.757\" x2=\"492.631\" y2=\"229.927\" stroke-linecap=\"round\" style=\"stroke:red;stroke-width:4\"/><line x1=\"492.631\" y1=\"229.927\" x2=\"489.095\" y2=\"226.391\" stroke-linecap=\"round\" style=\"stroke:red;stroke-width:4\"/><line x1=\"489.095\" y1=\"226.391\" x2=\"485.265\" y2=\"223.177\" stroke-linecap=\"round\" style=\"stroke:red;stroke-width:4\"/><line x1=\"485.265\" y1=\"223.177\" x2=\"481.169\" y2=\"220.309\" stroke-linecap=\"round\" style=\"stroke:red;stroke-width:4\"/><line x1=\"481.169\" y1=\"220.309\" x2=\"476.839\" y2=\"217.809\" stroke-linecap=\"round\" style=\"stroke:red;stroke-width:4\"/><line x1=\"476.839\" y1=\"217.809\" x2=\"472.307\" y2=\"215.696\" stroke-linecap=\"round\" style=\"stroke:red;stroke-width:4\"/><line x1=\"472.307\" y1=\"215.696\" x2=\"467.609\" y2=\"213.986\" stroke-linecap=\"round\" style=\"stroke:red;stroke-width:4\"/><line x1=\"467.609\" y1=\"213.986\" x2=\"462.779\" y2=\"212.692\" stroke-linecap=\"round\" style=\"stroke:red;stroke-width:4\"/><line x1=\"462.779\" y1=\"212.692\" x2=\"457.855\" y2=\"211.824\" stroke-linecap=\"round\" style=\"stroke:red;stroke-width:4\"/><line x1=\"457.855\" y1=\"211.824\" x2=\"452.874\" y2=\"211.388\" stroke-linecap=\"round\" style=\"stroke:red;stroke-width:4\"/><line x1=\"452.874\" y1=\"211.388\" x2=\"447.874\" y2=\"211.388\" stroke-linecap=\"round\" style=\"stroke:red;stroke-width:4\"/><line x1=\"447.874\" y1=\"211.388\" x2=\"442.893\" y2=\"211.824\" stroke-linecap=\"round\" style=\"stroke:red;stroke-width:4\"/><line x1=\"442.893\" y1=\"211.824\" x2=\"437.969\" y2=\"212.692\" stroke-linecap=\"round\" style=\"stroke:red;stroke-width:4\"/><line x1=\"437.969\" y1=\"212.692\" x2=\"433.139\" y2=\"213.986\" stroke-linecap=\"round\" style=\"stroke:red;stroke-width:4\"/><line x1=\"433.139\" y1=\"213.986\" x2=\"428.441\" y2=\"215.696\" stroke-linecap=\"round\" style=\"stroke:red;stroke-width:4\"/><line x1=\"428.441\" y1=\"215.696\" x2=\"423.909\" y2=\"217.809\" stroke-linecap=\"round\" style=\"stroke:red;stroke-width:4\"/><line x1=\"423.909\" y1=\"217.809\" x2=\"419.579\" y2=\"220.309\" stroke-linecap=\"round\" style=\"stroke:red;stroke-width:4\"/><line x1=\"419.579\" y1=\"220.309\" x2=\"415.483\" y2=\"223.177\" stroke-linecap=\"round\" style=\"stroke:red;stroke-width:4\"/><line x1=\"415.483\" y1=\"223.177\" x2=\"411.653\" y2=\"226.391\" stroke-linecap=\"round\" style=\"stroke:red;stroke-width:4\"/><line x1=\"411.653\" y1=\"226.391\" x2=\"408.117\" y2=\"229.927\" stroke-linecap=\"round\" style=\"stroke:red;stroke-width:4\"/><line x1=\"408.117\" y1=\"229.927\" x2=\"404.903\" y2=\"233.757\" stroke-linecap=\"round\" style=\"stroke:red;stroke-width:4\"/><line x1=\"404.903\" y1=\"233.757\" x2=\"402.035\" y2=\"237.853\" stroke-linecap=\"round\" style=\"stroke:red;stroke-width:4\"/><line x1=\"402.035\" y1=\"237.853\" x2=\"399.535\" y2=\"242.183\" stroke-linecap=\"round\" style=\"stroke:red;stroke-width:4\"/><line x1=\"399.535\" y1=\"242.183\" x2=\"396.667\" y2=\"238.087\" stroke-linecap=\"round\" style=\"stroke:red;stroke-width:4\"/><line x1=\"396.667\" y1=\"238.087\" x2=\"393.453\" y2=\"234.257\" stroke-linecap=\"round\" style=\"stroke:red;stroke-width:4\"/><line x1=\"393.453\" y1=\"234.257\" x2=\"389.917\" y2=\"230.721\" stroke-linecap=\"round\" style=\"stroke:red;stroke-width:4\"/><line x1=\"389.917\" y1=\"230.721\" x2=\"386.087\" y2=\"227.507\" stroke-linecap=\"round\" style=\"stroke:red;stroke-width:4\"/><line x1=\"386.087\" y1=\"227.507\" x2=\"381.991\" y2=\"224.639\" stroke-linecap=\"round\" style=\"stroke:red;stroke-width:4\"/><line x1=\"381.991\" y1=\"224.639\" x2=\"377.661\" y2=\"222.139\" stroke-linecap=\"round\" style=\"stroke:red;stroke-width:4\"/><line x1=\"377.661\" y1=\"222.139\" x2=\"373.129\" y2=\"220.026\" stroke-linecap=\"round\" style=\"stroke:red;stroke-width:4\"/><line x1=\"373.129\" y1=\"220.026\" x2=\"368.431\" y2=\"218.316\" stroke-linecap=\"round\" style=\"stroke:red;stroke-width:4\"/><line x1=\"368.431\" y1=\"218.316\" x2=\"363.601\" y2=\"217.022\" stroke-linecap=\"round\" style=\"stroke:red;stroke-width:4\"/><line x1=\"363.601\" y1=\"217.022\" x2=\"358.677\" y2=\"216.154\" stroke-linecap=\"round\" style=\"stroke:red;stroke-width:4\"/><line x1=\"358.677\" y1=\"216.154\" x2=\"353.696\" y2=\"215.718\" stroke-linecap=\"round\" style=\"stroke:red;stroke-width:4\"/><line x1=\"353.696\" y1=\"215.718\" x2=\"348.696\" y2=\"215.718\" stroke-linecap=\"round\" style=\"stroke:red;stroke-width:4\"/><line x1=\"348.696\" y1=\"215.718\" x2=\"343.715\" y2=\"216.154\" stroke-linecap=\"round\" style=\"stroke:red;stroke-width:4\"/><line x1=\"343.715\" y1=\"216.154\" x2=\"338.791\" y2=\"217.022\" stroke-linecap=\"round\" style=\"stroke:red;stroke-width:4\"/><line x1=\"338.791\" y1=\"217.022\" x2=\"333.961\" y2=\"218.316\" stroke-linecap=\"round\" style=\"stroke:red;stroke-width:4\"/><line x1=\"333.961\" y1=\"218.316\" x2=\"329.263\" y2=\"220.026\" stroke-linecap=\"round\" style=\"stroke:red;stroke-width:4\"/><line x1=\"329.263\" y1=\"220.026\" x2=\"324.731\" y2=\"222.139\" stroke-linecap=\"round\" style=\"stroke:red;stroke-width:4\"/><line x1=\"324.731\" y1=\"222.139\" x2=\"320.401\" y2=\"224.639\" stroke-linecap=\"round\" style=\"stroke:red;stroke-width:4\"/><line x1=\"320.401\" y1=\"224.639\" x2=\"316.305\" y2=\"227.507\" stroke-linecap=\"round\" style=\"stroke:red;stroke-width:4\"/><line x1=\"316.305\" y1=\"227.507\" x2=\"312.475\" y2=\"230.721\" stroke-linecap=\"round\" style=\"stroke:red;stroke-width:4\"/><line x1=\"312.475\" y1=\"230.721\" x2=\"308.939\" y2=\"234.257\" stroke-linecap=\"round\" style=\"stroke:red;stroke-width:4\"/><line x1=\"308.939\" y1=\"234.257\" x2=\"305.725\" y2=\"238.087\" stroke-linecap=\"round\" style=\"stroke:red;stroke-width:4\"/><line x1=\"305.725\" y1=\"238.087\" x2=\"302.857\" y2=\"242.183\" stroke-linecap=\"round\" style=\"stroke:red;stroke-width:4\"/><line x1=\"302.857\" y1=\"242.183\" x2=\"300.357\" y2=\"246.513\" stroke-linecap=\"round\" style=\"stroke:red;stroke-width:4\"/><line x1=\"300.357\" y1=\"246.513\" x2=\"298.244\" y2=\"251.045\" stroke-linecap=\"round\" style=\"stroke:red;stroke-width:4\"/><line x1=\"298.244\" y1=\"251.045\" x2=\"296.534\" y2=\"255.743\" stroke-linecap=\"round\" style=\"stroke:red;stroke-width:4\"/><line x1=\"296.534\" y1=\"255.743\" x2=\"295.24\" y2=\"260.573\" stroke-linecap=\"round\" style=\"stroke:red;stroke-width:4\"/><line x1=\"295.24\" y1=\"260.573\" x2=\"294.372\" y2=\"265.497\" stroke-linecap=\"round\" style=\"stroke:red;stroke-width:4\"/><line x1=\"294.372\" y1=\"265.497\" x2=\"293.936\" y2=\"270.478\" stroke-linecap=\"round\" style=\"stroke:red;stroke-width:4\"/><line x1=\"293.936\" y1=\"270.478\" x2=\"293.936\" y2=\"275.478\" stroke-linecap=\"round\" style=\"stroke:red;stroke-width:4\"/><line x1=\"293.936\" y1=\"275.478\" x2=\"294.372\" y2=\"280.459\" stroke-linecap=\"round\" style=\"stroke:red;stroke-width:4\"/><line x1=\"294.372\" y1=\"280.459\" x2=\"295.24\" y2=\"285.383\" stroke-linecap=\"round\" style=\"stroke:red;stroke-width:4\"/><line x1=\"295.24\" y1=\"285.383\" x2=\"296.534\" y2=\"290.213\" stroke-linecap=\"round\" style=\"stroke:red;stroke-width:4\"/><line x1=\"296.534\" y1=\"290.213\" x2=\"298.244\" y2=\"294.911\" stroke-linecap=\"round\" style=\"stroke:red;stroke-width:4\"/><line x1=\"298.244\" y1=\"294.911\" x2=\"300.357\" y2=\"299.443\" stroke-linecap=\"round\" style=\"stroke:red;stroke-width:4\"/><line x1=\"300.357\" y1=\"299.443\" x2=\"302.857\" y2=\"303.773\" stroke-linecap=\"round\" style=\"stroke:red;stroke-width:4\"/><line x1=\"302.857\" y1=\"303.773\" x2=\"305.725\" y2=\"307.869\" stroke-linecap=\"round\" style=\"stroke:red;stroke-width:4\"/><line x1=\"305.725\" y1=\"307.869\" x2=\"308.939\" y2=\"311.699\" stroke-linecap=\"round\" style=\"stroke:red;stroke-width:4\"/><line x1=\"308.939\" y1=\"311.699\" x2=\"312.475\" y2=\"315.235\" stroke-linecap=\"round\" style=\"stroke:red;stroke-width:4\"/><line x1=\"312.475\" y1=\"315.235\" x2=\"398.035\" y2=\"400.795\" stroke-linecap=\"round\" style=\"stroke:red;stroke-width:4\"/><line x1=\"100\" y1=\"0\" x2=\"100.0\" y2=\"500.0\" stroke-linecap=\"round\" style=\"stroke:blue;stroke-width:5\"/><line x1=\"700\" y1=\"0\" x2=\"700.0\" y2=\"500.0\" stroke-linecap=\"round\" style=\"stroke:green;stroke-width:5\"/>\n",
              "        <g visibility=visible transform=\"rotate(360,400.0,300.0) translate(382.0, 282.0)\">\n",
              "<path style=\" stroke:none;fill-rule:evenodd;fill:yellow;fill-opacity:1;\" d=\"M 18.214844 0.632812 C 16.109375 1.800781 15.011719 4.074219 15.074219 7.132812 L 15.085938 7.652344 L 14.785156 7.496094 C 13.476562 6.824219 11.957031 6.671875 10.40625 7.066406 C 8.46875 7.550781 6.515625 9.15625 4.394531 11.992188 C 3.0625 13.777344 2.679688 14.636719 3.042969 15.027344 L 3.15625 15.152344 L 3.519531 15.152344 C 4.238281 15.152344 4.828125 14.886719 8.1875 13.039062 C 9.386719 12.378906 10.371094 11.839844 10.378906 11.839844 C 10.386719 11.839844 10.355469 11.929688 10.304688 12.035156 C 9.832031 13.09375 9.257812 14.820312 8.96875 16.078125 C 7.914062 20.652344 8.617188 24.53125 11.070312 27.660156 C 11.351562 28.015625 11.363281 27.914062 10.972656 28.382812 C 8.925781 30.84375 7.945312 33.28125 8.238281 35.1875 C 8.289062 35.527344 8.28125 35.523438 8.917969 35.523438 C 10.941406 35.523438 13.074219 34.207031 15.136719 31.6875 C 15.359375 31.417969 15.328125 31.425781 15.5625 31.574219 C 16.292969 32.042969 18.023438 32.964844 18.175781 32.964844 C 18.335938 32.964844 19.941406 32.210938 20.828125 31.71875 C 20.996094 31.625 21.136719 31.554688 21.136719 31.558594 C 21.203125 31.664062 21.898438 32.414062 22.222656 32.730469 C 23.835938 34.300781 25.5625 35.132812 27.582031 35.300781 C 27.90625 35.328125 27.9375 35.308594 28.007812 34.984375 C 28.382812 33.242188 27.625 30.925781 25.863281 28.425781 L 25.542969 27.96875 L 25.699219 27.785156 C 28.945312 23.960938 29.132812 18.699219 26.257812 11.96875 L 26.207031 11.84375 L 27.945312 12.703125 C 31.53125 14.476562 32.316406 14.800781 33.03125 14.800781 C 33.976562 14.800781 33.78125 13.9375 32.472656 12.292969 C 28.519531 7.355469 25.394531 5.925781 21.921875 7.472656 L 21.558594 7.636719 L 21.578125 7.542969 C 21.699219 6.992188 21.761719 5.742188 21.699219 5.164062 C 21.496094 3.296875 20.664062 1.964844 19.003906 0.855469 C 18.480469 0.503906 18.457031 0.5 18.214844 0.632812\"/>\n",
              "</g>\n",
              "      </svg>\n",
              "    "
            ],
            "text/plain": [
              "<IPython.core.display.HTML object>"
            ]
          },
          "metadata": {
            "tags": []
          }
        }
      ]
    }
  ]
}