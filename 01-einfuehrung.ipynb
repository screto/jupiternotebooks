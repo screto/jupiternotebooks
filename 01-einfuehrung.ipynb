{
  "nbformat": 4,
  "nbformat_minor": 0,
  "metadata": {
    "colab": {
      "name": "Untitled0.ipynb",
      "provenance": [],
      "authorship_tag": "ABX9TyPoq6W8Bo8Mii2DrB/4KMUe",
      "include_colab_link": true
    },
    "kernelspec": {
      "name": "python3",
      "display_name": "Python 3"
    },
    "language_info": {
      "name": "python"
    }
  },
  "cells": [
    {
      "cell_type": "markdown",
      "metadata": {
        "id": "view-in-github",
        "colab_type": "text"
      },
      "source": [
        "<a href=\"https://colab.research.google.com/github/screto/jupiternotebooks/blob/main/01-einfuehrung.ipynb\" target=\"_parent\"><img src=\"https://colab.research.google.com/assets/colab-badge.svg\" alt=\"Open In Colab\"/></a>"
      ]
    },
    {
      "cell_type": "markdown",
      "metadata": {
        "id": "ZB2tjoH48jwq"
      },
      "source": [
        "## **Dies ist mein erstes Jupiternotebook**\n",
        "\n",
        "Sieht toll aus"
      ]
    },
    {
      "cell_type": "markdown",
      "metadata": {
        "id": "XAQl5oze8hki"
      },
      "source": [
        ""
      ]
    },
    {
      "cell_type": "code",
      "metadata": {
        "id": "ES2wJcpt8zY7"
      },
      "source": [
        "print('Hello world!')"
      ],
      "execution_count": null,
      "outputs": []
    },
    {
      "cell_type": "markdown",
      "metadata": {
        "id": "nrcqjvB-82zQ"
      },
      "source": [
        ""
      ]
    }
  ]
}